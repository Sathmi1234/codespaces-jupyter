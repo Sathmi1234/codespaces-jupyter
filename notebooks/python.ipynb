{
 "cells": [
  {
   "cell_type": "code",
   "execution_count": 6,
   "metadata": {},
   "outputs": [
    {
     "name": "stdout",
     "output_type": "stream",
     "text": [
      "5\n",
      "2\n"
     ]
    }
   ],
   "source": [
    "#find the common elements between two list\n",
    "list1=[1,5,2,3,6]\n",
    "list2=[5,9,4,2,53]\n",
    "\n",
    "for i in list1:\n",
    "    for j in list2:\n",
    "        if i==j:\n",
    "            print(i)"
   ]
  },
  {
   "cell_type": "code",
   "execution_count": 2,
   "metadata": {},
   "outputs": [
    {
     "name": "stdout",
     "output_type": "stream",
     "text": [
      "[5, 2]\n"
     ]
    }
   ],
   "source": [
    "#find the common elements between two list\n",
    "list1=[1,5,2,3,6]\n",
    "list2=[5,9,4,2,53]\n",
    "cmn_list=[]\n",
    "\n",
    "for i in list1:\n",
    "    if i in list2 and i not in cmn_list:\n",
    "        cmn_list.append(i)\n",
    "print(cmn_list)"
   ]
  },
  {
   "cell_type": "code",
   "execution_count": 10,
   "metadata": {},
   "outputs": [
    {
     "name": "stdout",
     "output_type": "stream",
     "text": [
      "[4, 8, 5, 9, 2, 3]\n"
     ]
    }
   ],
   "source": [
    "#remove duplicates from the list\n",
    "list1=[4,8,5,9,8,5,2,3,4]\n",
    "tmp_list=[]\n",
    "for i in list1:\n",
    "    if i not in tmp_list:\n",
    "        tmp_list.append(i)\n",
    "list1=tmp_list\n",
    "print(list1)"
   ]
  },
  {
   "cell_type": "code",
   "execution_count": 14,
   "metadata": {},
   "outputs": [
    {
     "name": "stdout",
     "output_type": "stream",
     "text": [
      "Hello World!\n"
     ]
    }
   ],
   "source": [
    "#function\n",
    "def printMsg():\n",
    "    print(\"Hello World!\")\n",
    "\n",
    "printMsg()"
   ]
  },
  {
   "cell_type": "code",
   "execution_count": 19,
   "metadata": {},
   "outputs": [
    {
     "name": "stdout",
     "output_type": "stream",
     "text": [
      "Hi  Sathmi\n"
     ]
    }
   ],
   "source": [
    "def printMsg2(name):\n",
    "    print(\"Hi \",name)\n",
    "\n",
    "printMsg2(\"Sathmi\")"
   ]
  },
  {
   "cell_type": "code",
   "execution_count": 20,
   "metadata": {},
   "outputs": [
    {
     "name": "stdout",
     "output_type": "stream",
     "text": [
      "Gemini\n",
      "IT\n"
     ]
    }
   ],
   "source": [
    "def printMsg(name):\n",
    "    print(name)\n",
    "\n",
    "name=\"IT\"\n",
    "printMsg('Gemini')\n",
    "print(name)"
   ]
  },
  {
   "cell_type": "code",
   "execution_count": 25,
   "metadata": {},
   "outputs": [
    {
     "name": "stdout",
     "output_type": "stream",
     "text": [
      "8 4 6\n",
      "4 8 6\n",
      "4 6 8\n"
     ]
    }
   ],
   "source": [
    "def myNumbers(a,b,c):\n",
    "    print(a,b,c)\n",
    "\n",
    "myNumbers(b=4,c=6,a=8)\n",
    "myNumbers(4,c=6,b=8)\n",
    "#myNumbers(4,6,b=8)#error\n",
    "myNumbers(4,6,c=8)"
   ]
  },
  {
   "cell_type": "code",
   "execution_count": 27,
   "metadata": {},
   "outputs": [
    {
     "name": "stdout",
     "output_type": "stream",
     "text": [
      "7\n"
     ]
    }
   ],
   "source": [
    "def sum(a,b):\n",
    "    return a+b\n",
    "\n",
    "print(sum(4,3))"
   ]
  },
  {
   "cell_type": "code",
   "execution_count": 28,
   "metadata": {},
   "outputs": [
    {
     "name": "stdout",
     "output_type": "stream",
     "text": [
      "Hi\n",
      "python\n"
     ]
    }
   ],
   "source": [
    "def default_prnt(a=\"Hi\"):\n",
    "    print(a)\n",
    "\n",
    "default_prnt()\n",
    "default_prnt('python')"
   ]
  },
  {
   "cell_type": "code",
   "execution_count": 33,
   "metadata": {},
   "outputs": [
    {
     "name": "stdout",
     "output_type": "stream",
     "text": [
      "Five\n",
      "Four\n",
      "Three\n"
     ]
    }
   ],
   "source": [
    "def countdown():\n",
    "    print('Five')\n",
    "    print('Four')\n",
    "    print('Three')\n",
    "    return \n",
    "    print('Two') \n",
    "    print('One')\n",
    "\n",
    "countdown()"
   ]
  },
  {
   "cell_type": "code",
   "execution_count": 35,
   "metadata": {},
   "outputs": [
    {
     "name": "stdout",
     "output_type": "stream",
     "text": [
      "4 * 5 = 20\n",
      "20\n",
      "4 * 5 = 20\n",
      "20\n"
     ]
    }
   ],
   "source": [
    "def mult(a,b):\n",
    "    print(a,'*',b,'=',a*b)\n",
    "    return a*b\n",
    "\n",
    "num=mult(4,5)\n",
    "print(num)\n",
    "print(mult(4,5))"
   ]
  },
  {
   "cell_type": "code",
   "execution_count": 36,
   "metadata": {},
   "outputs": [
    {
     "name": "stdout",
     "output_type": "stream",
     "text": [
      "True\n",
      "None\n"
     ]
    }
   ],
   "source": [
    "def find_odd(n):\n",
    "    if n%2==1:\n",
    "        return True\n",
    "    \n",
    "print(find_odd(7))\n",
    "print(find_odd(10))"
   ]
  },
  {
   "cell_type": "code",
   "execution_count": null,
   "metadata": {},
   "outputs": [],
   "source": []
  },
  {
   "cell_type": "code",
   "execution_count": null,
   "metadata": {},
   "outputs": [],
   "source": []
  },
  {
   "cell_type": "code",
   "execution_count": 3,
   "metadata": {},
   "outputs": [
    {
     "name": "stdout",
     "output_type": "stream",
     "text": [
      "Enter your name: \n",
      "Enter your age: \n",
      "Enter your GPA: \n",
      "sathmi 21 2.5\n"
     ]
    }
   ],
   "source": [
    "print(\"Enter your name: \")\n",
    "name=input()\n",
    "print(\"Enter your age: \")\n",
    "age=int(input())\n",
    "print(\"Enter your GPA: \")\n",
    "gpa=float(input())\n",
    "\n",
    "print(name,age,gpa)"
   ]
  },
  {
   "cell_type": "code",
   "execution_count": 6,
   "metadata": {},
   "outputs": [
    {
     "name": "stdout",
     "output_type": "stream",
     "text": [
      "Sum of the list [1, 2, 3, 4, 5]  is  15\n"
     ]
    }
   ],
   "source": [
    "#Create a function to return the sum of the given list\n",
    "\n",
    "def sumFun(list1):\n",
    "    sum=0\n",
    "    for i in list1:\n",
    "        sum=sum+i\n",
    "    return sum\n",
    "\n",
    "list1=[1,2,3,4,5]\n",
    "sum=sumFun(list1)\n",
    "print(\"Sum of the list\",list1,\" is \",sum)"
   ]
  },
  {
   "cell_type": "code",
   "execution_count": 15,
   "metadata": {},
   "outputs": [
    {
     "name": "stdout",
     "output_type": "stream",
     "text": [
      "False\n"
     ]
    }
   ],
   "source": [
    "#Create a boolean function to find a prime number ex:isPrime-False\n",
    "#use the primt function and find the prime numbers between 1 to 30\n",
    "\n",
    "def isPrime(num):\n",
    "    isP=False\n",
    "    for i in range(2,30):\n",
    "        if num/i!=1:\n",
    "            isP=False\n",
    "        else:\n",
    "            isP=True\n",
    "    return isP\n",
    "print(isPrime())"
   ]
  }
 ],
 "metadata": {
  "kernelspec": {
   "display_name": "Python 3",
   "language": "python",
   "name": "python3"
  },
  "language_info": {
   "codemirror_mode": {
    "name": "ipython",
    "version": 3
   },
   "file_extension": ".py",
   "mimetype": "text/x-python",
   "name": "python",
   "nbconvert_exporter": "python",
   "pygments_lexer": "ipython3",
   "version": "3.10.13"
  }
 },
 "nbformat": 4,
 "nbformat_minor": 2
}
